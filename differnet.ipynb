{
 "cells": [
  {
   "cell_type": "code",
   "execution_count": 2,
   "metadata": {},
   "outputs": [
    {
     "name": "stdout",
     "output_type": "stream",
     "text": [
      "The autoreload extension is already loaded. To reload it, use:\n",
      "  %reload_ext autoreload\n"
     ]
    }
   ],
   "source": [
    "import sys\n",
    "import torch\n",
    "import torchvision\n",
    "sys.path.append(\"/workspaces/anomalib/\")\n",
    "import os\n",
    "import shutil\n",
    "\n",
    "from tqdm import tqdm\n",
    "%load_ext autoreload\n",
    "%autoreload 2"
   ]
  },
  {
   "cell_type": "code",
   "execution_count": 3,
   "metadata": {},
   "outputs": [],
   "source": [
    "download = False\n",
    "cifar_data_train = torchvision.datasets.CIFAR10(\n",
    "    \"data/cifar10\", download=download\n",
    ")\n",
    "cifar_data_test = torchvision.datasets.CIFAR10(\n",
    "    \"data/cifar10\", download=download, train=False\n",
    ")\n",
    "\n",
    "svhn_data_train = torchvision.datasets.SVHN(\n",
    "    \"data/svhn\", download=download\n",
    ")\n",
    "svhn_data_test = torchvision.datasets.SVHN(\n",
    "    \"data/svhn\", download=download, split=\"test\"\n",
    ")"
   ]
  },
  {
   "cell_type": "code",
   "execution_count": 20,
   "metadata": {},
   "outputs": [],
   "source": [
    "shutil.rmtree('cifar10_dataset')\n",
    "os.makedirs('/workspaces/anomalib/cifar10_dataset/ood/train/good/')\n",
    "os.makedirs('/workspaces/anomalib/cifar10_dataset/ood/test/good/')\n",
    "os.makedirs('/workspaces/anomalib/cifar10_dataset/ood/test/anomaly/')"
   ]
  },
  {
   "cell_type": "code",
   "execution_count": 21,
   "metadata": {},
   "outputs": [
    {
     "name": "stderr",
     "output_type": "stream",
     "text": [
      "50000it [00:02, 23945.89it/s]\n"
     ]
    }
   ],
   "source": [
    "max_count = 100\n",
    "label_counts = {i:0 for i in range(10)}\n",
    "for i, (image, label) in tqdm(enumerate(cifar_data_train)):\n",
    "    label_counts[label]+=1\n",
    "    if label_counts[label] > max_count:\n",
    "        continue\n",
    "    image.save(f'/workspaces/anomalib/cifar10_dataset/ood/train/good/{i}_{label}.png', \"PNG\")"
   ]
  },
  {
   "cell_type": "code",
   "execution_count": 22,
   "metadata": {},
   "outputs": [
    {
     "name": "stderr",
     "output_type": "stream",
     "text": [
      "10000it [00:00, 14078.01it/s]\n"
     ]
    }
   ],
   "source": [
    "max_count = 100\n",
    "label_counts = {i:0 for i in range(10)}\n",
    "for i, (image, label) in tqdm(enumerate(cifar_data_test)):\n",
    "    label_counts[label]+=1\n",
    "    if label_counts[label] > max_count:\n",
    "        continue\n",
    "    image.save(f'/workspaces/anomalib/cifar10_dataset/ood/test/good/{i}_{label}.png', \"PNG\")"
   ]
  },
  {
   "cell_type": "code",
   "execution_count": 24,
   "metadata": {},
   "outputs": [
    {
     "name": "stderr",
     "output_type": "stream",
     "text": [
      "26032it [00:01, 19384.82it/s]\n"
     ]
    }
   ],
   "source": [
    "max_count = 100\n",
    "label_counts = {i:0 for i in range(10)}\n",
    "for i, (image, label) in tqdm(enumerate(svhn_data_test)):\n",
    "    label_counts[label]+=1\n",
    "    if label_counts[label] > max_count:\n",
    "        continue\n",
    "    image.save(f'/workspaces/anomalib/cifar10_dataset/ood/test/anomaly/{i}_{label}.png', \"PNG\")"
   ]
  },
  {
   "cell_type": "code",
   "execution_count": null,
   "metadata": {},
   "outputs": [],
   "source": []
  }
 ],
 "metadata": {
  "interpreter": {
   "hash": "d4d1e4263499bec80672ea0156c357c1ee493ec2b1c70f0acce89fc37c4a6abe"
  },
  "kernelspec": {
   "display_name": "Python 3.8.10 ('base')",
   "language": "python",
   "name": "python3"
  },
  "language_info": {
   "codemirror_mode": {
    "name": "ipython",
    "version": 3
   },
   "file_extension": ".py",
   "mimetype": "text/x-python",
   "name": "python",
   "nbconvert_exporter": "python",
   "pygments_lexer": "ipython3",
   "version": "3.8.10"
  },
  "orig_nbformat": 4
 },
 "nbformat": 4,
 "nbformat_minor": 2
}
